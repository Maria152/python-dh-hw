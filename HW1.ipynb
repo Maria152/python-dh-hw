rawpenguin = '''   _~_    
  (o o)   
 /  V  \\  
/(  _  )\\ 
  ^^ ^^   '''
penguin = rawpenguin.split('\n')
n = int(input('Введите число от 1 до 9: '))
for bodypart in penguin:
    print(bodypart*n)
Введите число от 1 до 9: 9
   _~_       _~_       _~_       _~_       _~_       _~_       _~_       _~_       _~_    
  (o o)     (o o)     (o o)     (o o)     (o o)     (o o)     (o o)     (o o)     (o o)   
 /  V  \   /  V  \   /  V  \   /  V  \   /  V  \   /  V  \   /  V  \   /  V  \   /  V  \  
/(  _  )\ /(  _  )\ /(  _  )\ /(  _  )\ /(  _  )\ /(  _  )\ /(  _  )\ /(  _  )\ /(  _  )\ 
  ^^ ^^     ^^ ^^     ^^ ^^     ^^ ^^     ^^ ^^     ^^ ^^     ^^ ^^     ^^ ^^     ^^ ^^   
