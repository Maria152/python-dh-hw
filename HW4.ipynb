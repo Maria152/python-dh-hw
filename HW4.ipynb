{
 "cells": [
  {
   "cell_type": "markdown",
   "metadata": {},
   "source": [
    "#Задание_№1\n",
    "-Скачайте из папки с домашними заданиями английский текст первой книги о Гарри Поттере. Он должен быть сохранен отдельным файлом. -Очистите текст от пунктуации, приведите его к нижнему регистру, лемматизируйте и запишите в новый файл. Проверьте, выполняется ли здесь закон Ципфа. Для этого постройте линейную диаграмму, где по оси Х будет ранг (порядковый номер) слова в отсортированном по убыванию частотном словаре, а по оси Y - относительная частота (абсолютная частота, разделенная на количество слов в тексте). Т.е. у самого частотного слова будет ранг 1, у второго по частоте -- 2 и т.д. -Очистите текст от стоп-слов. Постройте barplot для 30 самых частотных слов. Эти слова должны быть по оси Х в виде подписей к делениям. Значениями по этой оси будет ряд чисел от 0 до 30"
   ]
  },
  {
   "cell_type": "code",
   "execution_count": 1,
   "metadata": {},
   "outputs": [
    {
     "name": "stdout",
     "output_type": "stream",
     "text": [
      "showing info https://raw.githubusercontent.com/nltk/nltk_data/gh-pages/index.xml\n"
     ]
    },
    {
     "data": {
      "text/plain": [
       "True"
      ]
     },
     "execution_count": 1,
     "metadata": {},
     "output_type": "execute_result"
    }
   ],
   "source": [
    "import nltk\n",
    "nltk.download()"
   ]
  },
  {
   "cell_type": "code",
   "execution_count": 2,
   "metadata": {},
   "outputs": [],
   "source": [
    "from pymystem3 import Mystem\n",
    "#открываем текст \n",
    "with open('Harry_Potter_and_the_Sorcerers_Stone.txt','r', encoding='utf-8') as f:\n",
    "    text = f.read()\n",
    "#очищаем от пунктуации\n",
    "text_free = [w.strip(\"’!\\\"#$%&'()*+,./:;<=>?@[\\]^_`{|}~„“”«»†*—/\\-”—?,\") for w in text.split()] \n",
    " \n",
    "#приводим к нижнему регистру\n",
    "text_free = ' '.join(text_free).lower()"
   ]
  },
  {
   "cell_type": "code",
   "execution_count": 3,
   "metadata": {},
   "outputs": [
    {
     "data": {
      "text/plain": [
       "'chapter on'"
      ]
     },
     "execution_count": 3,
     "metadata": {},
     "output_type": "execute_result"
    }
   ],
   "source": [
    "text_free[:10]"
   ]
  },
  {
   "cell_type": "code",
   "execution_count": 4,
   "metadata": {},
   "outputs": [],
   "source": [
    "#лемаищируем и пишем в новый файл-переменную x\n",
    "text = text_free\n",
    "from nltk import WordNetLemmatizer\n",
    "wnl = WordNetLemmatizer()\n",
    "x = wnl.lemmatize(text_free)\n",
    "with open ('Harry_Potter_lemmas.txt', 'w', encoding = 'utf-8') as f:\n",
    "    f.write(x)"
   ]
  },
  {
   "cell_type": "code",
   "execution_count": 5,
   "metadata": {},
   "outputs": [
    {
     "name": "stdout",
     "output_type": "stream",
     "text": [
      "[('the', 3603), ('and', 1870), ('to', 1845), ('a', 1667), ('he', 1497)]\n"
     ]
    }
   ],
   "source": [
    "#частота лемм\n",
    "from collections import Counter\n",
    "counts = Counter(text.split())\n",
    "\n",
    "print(counts.most_common(5))"
   ]
  },
  {
   "cell_type": "code",
   "execution_count": 6,
   "metadata": {},
   "outputs": [
    {
     "name": "stdout",
     "output_type": "stream",
     "text": [
      "[('the', 3603), ('and', 1870), ('to', 1845), ('a', 1667), ('he', 1497)]\n"
     ]
    }
   ],
   "source": [
    "#проверила сортировку на всякий случай\n",
    "sorted_counts = sorted(counts.items(), key=lambda x: x[1], reverse=True)\n",
    "print(sorted_counts[:5])"
   ]
  },
  {
   "cell_type": "code",
   "execution_count": 7,
   "metadata": {},
   "outputs": [],
   "source": [
    "#выводим абсолютную частоту\n",
    "def get_relative_frequency(words):\n",
    "    absolute_frequency = list(Counter(words).items())\n",
    "#Сортируем по убыванию \n",
    "    absolute_frequency.sort(reverse=True, key=lambda x: x[1])\n",
    "#считаем слова\n",
    "    count = len(words)\n",
    "# относительная частота \n",
    "    return [(w, c / count) for w, c in absolute_frequency]"
   ]
  },
  {
   "cell_type": "code",
   "execution_count": 9,
   "metadata": {},
   "outputs": [
    {
     "data": {
      "image/png": "[encoded data removed]",
      "text/plain": [
       "<Figure size 432x288 with 1 Axes>"
      ]
     },
     "metadata": {
      "needs_background": "light"
     },
     "output_type": "display_data"
    }
   ],
   "source": [
    "\n",
    "# Проверяем закон Ципфа\n",
    "\n",
    "import matplotlib.pyplot as plt\n",
    "\n",
    "relative_frequency = get_relative_frequency(x)\n",
    "plt.plot(range(1, len(relative_frequency) + 1), \n",
    "         [f for w, f in relative_frequency]) \n",
    "plt.show()"
   ]
  },
  {
   "cell_type": "code",
   "execution_count": 10,
   "metadata": {},
   "outputs": [
    {
     "name": "stdout",
     "output_type": "stream",
     "text": [
      "['chapter', 'one', 'boy', 'lived', 'mr', 'mrs', 'dursley', 'number', 'four', 'privet', 'drive', 'proud', 'say', 'perfectly', 'normal', 'thank', 'much', 'last', 'people', \"'d\", 'expect', 'involved', 'anything', 'strange', 'mysterious', \"n't\", 'hold', 'nonsense', 'mr', 'dursley']\n"
     ]
    }
   ],
   "source": [
    "#очищаем текст от стоп.слов\n",
    "from nltk.corpus import stopwords\n",
    "from nltk.tokenize import word_tokenize\n",
    "\n",
    "sw = stopwords.words('english')\n",
    "h_filtered = [w for w in word_tokenize(x) if w not in sw]\n",
    "print(h_filtered[:30])"
   ]
  },
  {
   "cell_type": "code",
   "execution_count": 11,
   "metadata": {},
   "outputs": [
    {
     "name": "stdout",
     "output_type": "stream",
     "text": [
      "[('harry', 1305), (\"'s\", 995), (\"n't\", 827), ('said', 794), ('ron', 427), ('hagrid', 366), ('could', 301), (\"'d\", 267), ('hermione', 267), ('back', 257), ('one', 250), ('got', 204), ('get', 192), ('like', 188), ('know', 185), ('see', 177), (\"'ve\", 176), ('professor', 172), ('looked', 169), ('snape', 167), (\"'ll\", 160), ('dumbledore', 156), ('would', 153), ('around', 141), ('dudley', 137), (\"'re\", 135), ('going', 134), ('go', 130), ('something', 128), ('think', 121)]\n"
     ]
    }
   ],
   "source": [
    "# Сортируем текст (h_filtered)\n",
    "h_firty = {}\n",
    "counts = Counter(h_filtered)\n",
    "\n",
    "for k, v in counts.items():\n",
    "    h_firty[k] = v\n",
    "    \n",
    "\n",
    "h_firty = sorted(h_firty.items(), key=lambda x: x[1], reverse=True)\n",
    "print(h_firty[:30])"
   ]
  },
  {
   "cell_type": "code",
   "execution_count": 13,
   "metadata": {},
   "outputs": [
    {
     "data": {
      "image/png": "[encoded data removed]",
      "text/plain": [
       "<Figure size 432x288 with 1 Axes>"
      ]
     },
     "metadata": {
      "needs_background": "light"
     },
     "output_type": "display_data"
    }
   ],
   "source": [
    "X = range(30)\n",
    "Y = [word[1] for word in h_firty]\n",
    "Z = [word[0] for word in h_firty] \n",
    "plt.bar(X, Y[:30], color ='plum', edgecolor='black')\n",
    "plt.title('barplot для 30 самых частотных слов')\n",
    "plt.ylabel('числа')\n",
    "plt.xticks(X, Z[:30], rotation=90)\n",
    "plt.show()"
   ]
  },
  {
   "cell_type": "code",
   "execution_count": null,
   "metadata": {},
   "outputs": [],
   "source": []
  }
 ],
 "metadata": {
  "kernelspec": {
   "display_name": "Python 3",
   "language": "python",
   "name": "python3"
  },
  "language_info": {
   "codemirror_mode": {
    "name": "ipython",
    "version": 3
   },
   "file_extension": ".py",
   "mimetype": "text/x-python",
   "name": "python",
   "nbconvert_exporter": "python",
   "pygments_lexer": "ipython3",
   "version": "3.7.0"
  }
 },
 "nbformat": 4,
 "nbformat_minor": 2
}
