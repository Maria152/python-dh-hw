{
 "cells": [
  {
   "cell_type": "markdown",
   "metadata": {},
   "source": [
    "#Задание_№1\n",
    "-Скачайте из папки с домашними заданиями английский текст первой книги о Гарри Поттере. Он должен быть сохранен отдельным файлом.\n",
    "-Очистите текст от пунктуации, приведите его к нижнему регистру, лемматизируйте и запишите в новый файл. Проверьте, выполняется ли здесь закон Ципфа. Для этого постройте линейную диаграмму, где по оси Х будет ранг (порядковый номер) слова в отсортированном по убыванию частотном словаре, а по оси Y - относительная частота (абсолютная частота, разделенная на количество слов в тексте). Т.е. у самого частотного слова будет ранг 1, у второго по частоте -- 2 и т.д.\n",
    "-Очистите текст от стоп-слов. Постройте barplot для 30 самых частотных слов. Эти слова должны быть по оси Х в виде подписей к делениям. Значениями по этой оси будет ряд чисел от 0 до 30"
   ]
  },
  {
   "cell_type": "code",
   "execution_count": null,
   "metadata": {},
   "outputs": [],
   "source": [
    "import nltk\n",
    "nltk.download()"
   ]
  },
  {
   "cell_type": "code",
   "execution_count": 4,
   "metadata": {},
   "outputs": [],
   "source": [
    "from pymystem3 import Mystem\n",
    "#открываем текст \n",
    "with open('Harry_Potter_and_the_Sorcerers_Stone.txt','r', encoding='utf-8') as f:\n",
    "    text = f.read()\n",
    "#очищаем от пунктуации\n",
    "text_free = [w.strip(\"’!\\\"#$%&'()*+,./:;<=>?@[\\]^_`{|}~„“”«»†*—/\\-”—?,\") for w in text.split()] \n",
    " \n",
    "#приводим к нижнему регистру\n",
    "text_free = ' '.join(text_free).lower()"
   ]
  },
  {
   "cell_type": "code",
   "execution_count": 5,
   "metadata": {},
   "outputs": [
    {
     "data": {
      "text/plain": [
       "'chapter on'"
      ]
     },
     "execution_count": 5,
     "metadata": {},
     "output_type": "execute_result"
    }
   ],
   "source": [
    "text_free[:10]"
   ]
  },
  {
   "cell_type": "code",
   "execution_count": 33,
   "metadata": {},
   "outputs": [],
   "source": [
    "#лемаищируем и пишем в новый файл-переменную x\n",
    "text = text_free\n",
    "from nltk import WordNetLemmatizer\n",
    "wnl = WordNetLemmatizer()\n",
    "x = wnl.lemmatize(text_free)\n",
    "with open ('Harry_Potter_lemmas.txt', 'w', encoding = 'utf-8') as f:\n",
    "    f.write(x)"
   ]
  },
  {
   "cell_type": "code",
   "execution_count": 34,
   "metadata": {},
   "outputs": [
    {
     "name": "stdout",
     "output_type": "stream",
     "text": [
      "[('the', 3603), ('and', 1870), ('to', 1845), ('a', 1667), ('he', 1497)]\n"
     ]
    }
   ],
   "source": [
    "#частота лемм\n",
    "from collections import Counter\n",
    "counts = Counter(text.split())\n",
    "\n",
    "print(counts.most_common(5))"
   ]
  },
  {
   "cell_type": "code",
   "execution_count": 35,
   "metadata": {},
   "outputs": [
    {
     "name": "stdout",
     "output_type": "stream",
     "text": [
      "[('the', 3603), ('and', 1870), ('to', 1845), ('a', 1667), ('he', 1497)]\n"
     ]
    }
   ],
   "source": [
    "sorted_counts = sorted(counts.items(), key=lambda x: x[1], reverse=True)\n",
    "print(sorted_counts[:5])"
   ]
  },
  {
   "cell_type": "code",
   "execution_count": 36,
   "metadata": {},
   "outputs": [],
   "source": [
    "#выводим абсолютную частоту\n",
    "def get_relative_frequency(words):\n",
    "    absolute_frequency = list(Counter(words).items())\n",
    "#Сортируем по убыванию \n",
    "    absolute_frequency.sort(reverse=True, key=lambda x: x[1])\n",
    "#считаем слова\n",
    "    count = len(words)\n",
    "# относительная частота 
    "    return [(w, c / count) for w, c in absolute_frequency]"
   ]
  },
  {
   "cell_type": "code",
   "execution_count": 39,
   "metadata": {},
   "outputs": [
    {
     "data": {
      "image/png": "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\n",
      "text/plain": [
       "<Figure size 432x288 with 1 Axes>"
      ]
     },
     "metadata": {
      "needs_background": "light"
     },
     "output_type": "display_data"
    }
   ],
   "source": [
    "# Проверяем закон Ципфа\n",
    "\n",
    "import matplotlib.pyplot as plt\n",
    "\n",
    "relative_frequency = get_relative_frequency(x)\n",
    "plt.plot(range(1, len(relative_frequency) + 1), \n",
    "         [f for w, f in relative_frequency]) \n",
    "plt.show()"
   ]
  },
  {
   "cell_type": "code",
   "execution_count": 50,
   "metadata": {},
   "outputs": [
    {
     "name": "stdout",
     "output_type": "stream",
     "text": [
      "['chapter', 'one', 'boy', 'lived', 'mr', 'mrs', 'dursley', 'number', 'four', 'privet', 'drive', 'proud', 'say', 'perfectly', 'normal', 'thank', 'much', 'last', 'people', \"'d\", 'expect', 'involved', 'anything', 'strange', 'mysterious', \"n't\", 'hold', 'nonsense', 'mr', 'dursley']\n"
     ]
    }
   ],
   "source": [
    "#очищаем текст от стоп.слов\n",
    "from nltk.corpus import stopwords\n",
    "from nltk.tokenize import word_tokenize\n",
    "\n",
    "sw = stopwords.words('english')\n",
    "h_filtered = [w for w in word_tokenize(x) if w not in sw]\n",
    "print(h_filtered[:30])"
   ]
  },
  {
   "cell_type": "code",
   "execution_count": 51,
   "metadata": {},
   "outputs": [
    {
     "name": "stdout",
     "output_type": "stream",
     "text": [
      "[('harry', 1305), (\"'s\", 995), (\"n't\", 827), ('said', 794), ('ron', 427), ('hagrid', 366), ('could', 301), (\"'d\", 267), ('hermione', 267), ('back', 257), ('one', 250), ('got', 204), ('get', 192), ('like', 188), ('know', 185), ('see', 177), (\"'ve\", 176), ('professor', 172), ('looked', 169), ('snape', 167), (\"'ll\", 160), ('dumbledore', 156), ('would', 153), ('around', 141), ('dudley', 137), (\"'re\", 135), ('going', 134), ('go', 130), ('something', 128), ('think', 121)]\n"
     ]
    }
   ],
   "source": [
    "# Сортируем текст (h_filtered)\n",
    "h_firty = {}\n",
    "counts = Counter(h_filtered)\n",
    "\n",
    "for k, v in counts.items():\n",
    "    h_firty[k] = v\n",
    "    \n",
    "\n",
    "h_firty = sorted(h_firty.items(), key=lambda x: x[1], reverse=True)\n",
    "print(h_firty[:30])"
   ]
  },
  {
   "cell_type": "code",
   "execution_count": 57,
   "metadata": {},
   "outputs": [
    {
     "data": {
      "image/png": "iVBORw0KGgoAAAANSUhEUgAAAY4AAAE7CAYAAADKA2a6AAAABHNCSVQICAgIfAhkiAAAAAlwSFlzAAALEgAACxIB0t1+/AAAADl0RVh0U29mdHdhcmUAbWF0cGxvdGxpYiB2ZXJzaW9uIDIuMi4zLCBodHRwOi8vbWF0cGxvdGxpYi5vcmcvIxREBQAAIABJREFUeJzt3WeYZFW59vH/TRaGzKAIEwARRASBIYioKAZQCSqgHFSi6DkgHHlFwHAQTBgwoQclB0EEFEEOqEhGJAxBoihxZgBhyJlh4Hk/PKvo3TVV1b17uru6p+/fdfXVVWunVbur97NX3IoIzMzM+mu+bmfAzMxGFwcOMzOrxYHDzMxqceAwM7NaHDjMzKwWBw4zM6vFgWOEk3SvpPcO07EmSwpJCwzH8cxsdHLgsAGR9HVJv+p2PhokfU/SdElPSbpP0lealr9V0nWSniu/39qtvJqNdg4cY4TSvPz3PhZYIyKWADYB/kPSRwEkLQScDfwKWBo4ETi7pJtZTfPyhWResoGk2yQ9Lul4SYsASFpa0rmSZpZl50paqbGRpEskfUvSX4HngFVK2nckXSPpSUlnS1qm1UElvV7SOZIek3SnpM+U9C2ALwMfl/SMpL+3y7ikX0maVdZ7XtKMpuVfl/RSWf5stapM0qaSbpT0dFn+iqTNWh0nIu6IiGcrSa8AbyivNwMWAH4cES9GxE8BAe9pk+dlynl+oJzX39c437MkLV9JO718pjeU9ydI+maLY+4h6ZLyehNJj0iaUN6vI+kJSWu02G6z6jlt8f5ASXeVc3ibpI80bf8ZSbdXlq8n6WflfD9T8v5seX1+2abd9+Jtle1eqvzdn5E0UdIukq5oOv6Mxt9UbUqxkt4r6d7yetVy3PUqeXmk3fdC0gRJvyt/s0cl/azpXL1SyeMrKtXCkpaUdFLZ7j5JX1W58Sqf4+WyzVOSLpK0Yqvjz6scOEaHnYAPAKsCbwS+WtLnA44HJgETgeeBnzVt+ylgT2Bx4L6S9mlgN+D1wGzgp22O+2tgRllvO+DbkjaPiD8C3wZ+ExHjImKdDnkX8K2IGAds2WL5fMBpZfmbm5b9ADgLWKIsf6DDcRoXyWdKnhcDTi2L3gzcFL3n17mpxfEaTgYWLcuXB35UyWtf5/suYOeSn+XIv1ctEXEl8EvgREmvKfn5akT8o8Xqr9D5//gu4B3AksAhwK8krVDytz3wdfL7sASwNfBoROxd/q7jyj7WKe8bf79234u/VbY7Bfhe431ETKt7HlqJiLuAA4BTJC1K/j1OiIhLmteVND9wLvm9nwysCJxWWWU+4P5Knqt5PII8Z6sA7yLP0a6V5X8r2ywPvAh8YTA+32jhwDE6/CwipkfEY8C3gB0BIuLRiPhtRDwXEU+XZe9q2vaEiLg1ImZHxEsl7eSIuKXcoX8N2KH8k72q3O1uChwQES9ExI3AMWQgquM1wKwOyxfqsFzA/OV3nyLiMDJArkdebJ8si8ZVXjc8WdbtfcC8qG4JfC4iHo+IlyLi0rL//pzvk+g5R58u+RiIr5MXrmvIgPnzNutNB5aX1DJ4R8QZEfFARLwSEb8B/gVsWBbvQV7cr410Z0Tc12o/DYP4vRiwiDia/BxXAysAX2mz6oZkcNs/Ip4t+a2WeFp+98r/wseBgyLi6Yi4Fzic1p9xvvLz6AA/zqjkwDE6TK+8vo/8Z0DSopJ+WYrSTwGXAUs1BYHqtu32tyCwXNM6rwceKxfI6rp1i+SvA2Z2WL4M8HibZXuTd8EvSHqi5KmjcgG8gSwNHFKSnyHvqKuWAJ5mThPIzz1Hnvp5vmcC/5T0DvJCc1KLY3yxVD09VKpRlm3xOV4CTgDWAg5vKi1V17sHOBS4oJyjc5vy/Glldd8TZfla9PytJ5Alkjrm9nuxcSMvbf6mO5Rlj0i6QNIqbfZzNPlZjoiIF9usMwG4LyJmt1ne7ru3HBlUqkG0+TNuXPL/BLAy+bcaMxw4RocJldcT6amy+X/A6sBGpVH4nSW9eofe6oLTvL+XgEea1nkAWEbS4k3r3t9hv71IWpD8527bBkJW5fyz1YKIuJb8h/1KRCxFH1VVTRYgq/YAbgXWllQ9L2uX9GbTyc+9VItl/TnfkHfgRwB3RkSroPmD8nlWIavE9m9eodSZH0xWxRwuaeEW+wEgIg6NiOXLPj9c2cck8gK7N7BsWX5LJb/T6TlH/dXX96IvV0XEUo0f5vybnl7SX09WHX27eQeSxgE/JjtEfF1t2ujIzzdR7buXt/vuPUL+T0yqpDV/xqtKPhchO12c0OYY8yQHjtFhL0krlX+QLwO/KemLk3fWT5RlB/dzf5+UtGapIz4UODMiXq6uEBHTgSuB70haRNLawO5k3TXAQ8Bkde6ptSvwb2Bq8wKlbYApwPmtNpa0A/kP+6NWyyvrzSfps8rGa0naENgLuLCscgnwMrCPpIUl7V3SL2reV0Q8WPLzv2V/C0pqBIj+nu8/A9f3lW/gBbLTQq9zWALcCeSFcXfgQeAbfeyrlcXIAD+z7HdXMpA3HEOWftYv5+0NJdi01Y/vxaCIiFlkSbHV9+snwHURsQfwf8Av2uzmGvLcHSZpsZLftwNIWpNs5/t9i2O/DJwOfEvS4uWc7EcGiDlWJ79b4+t8vlEvIvwzgn+Ae4GDgNvIYvGJwKJl2evJi+Iz5J3TZ8kv8gJl+SXAHk37uwT4DvlP9RTwB2C5smxy0/YrkVUfj5FVGp+r7GdZ4AqyqH99i3zvVPb1UsnfM+RF9xXyH31L4GZgm8o2rx6f7DZ7PzClsnwGsFmLY80H/LHks3Euvgyoss66wHUlD9cD63Y458uU8/xQ+Xy/G+j5LukBvKG8PqGc9xnl851HNrDuAVxS1tmXbLxfqHLcmcA7+vF92QyYUXn/rXJeHgF+CFxazSPwOeCO8pluaT4v1bxX0tp+LyrrnAB8syltF+CKprRX/6Zku86zlXNzOVkqeC9wb1lnm7JsmfJ+HHAnsFOb8zGRDA6PlnPwUzKgziBLss3/a+8tr5cmA8VMsuTyP8B8lc/xcjlnT5Xv1SbdvlYM54/KibAxQtnl81cRccwQH2cXYHJEfL0pfSXygrLLUB7fzIaOq6psqDxL3o01m03eqZrZKOU5iWxIRMQZbdL/TdYXm9ko5aoqMzOrxVVVZmZWiwOHmZnVMk+2cSy33HIxefLkbmfDzGxUue666x6JiD7HpMyTgWPy5MlMnTrHmDMzM+tAUse5yhpcVWVmZrU4cJiZWS0OHGZmVosDh5mZ1eLAYWZmtThwmJlZLQ4cZmZWiwOHmZnVMqYDx6QJk5A0x8+kCR0fgmZmNqbNkyPH+2vajGncdcJdc6SvukvdxzCbmY0dY7rEYWZm9TlwmJlZLQ4cZmZWiwOHmZnV4sBhZma1OHCYmVktDhxmZlaLA4eZmdXiwGFmZrU4cJiZWS0OHGZmVsuQBQ5Jx0l6WNItlbTvS/qHpJsknSVpqcqygyTdKekOSR+opG9R0u6UdOBQ5dfMzPpnKEscJwBbNKVdAKwVEWsD/wQOApC0JvAJ4M1lm/+VNL+k+YGfA1sCawI7lnXNzKxLhixwRMRlwGNNaX+OiNnl7VXASuX1NsBpEfFiRNwD3AlsWH7ujIi7I2IWcFpZ18zMuqSbbRy7AeeX1ysC0yvLZpS0dulmZtYlXQkckr4CzAZOaSS1WC06pLfa556SpkqaOnPmzMHJqJmZzWHYA4eknYEPAztFRCMIzAAmVFZbCXigQ/ocIuKoiJgSEVPGjx8/+Bk3MzNgmAOHpC2AA4CtI+K5yqJzgE9IWljSysBqwDXAtcBqklaWtBDZgH7OcObZzMx6G7JHx0r6NbAZsJykGcDBZC+qhYELJAFcFRGfi4hbJZ0O3EZWYe0VES+X/ewN/AmYHzguIm4dqjybmVnfhixwRMSOLZKP7bD+t4BvtUg/DzhvELNmZmZzwSPHzcysFgcOMzOrxYHDzMxqceAwM7NaHDjMzKwWBw4zM6vFgcPMzGpx4DAzs1ocOMzMrBYHDjMzq8WBw8zManHgMDOzWhw4zMysFgcOMzOrxYHDzMxqceAwM7NaHDjMzKwWBw4zM6vFgcPMzGpx4DAzs1ocOMzMrBYHDjMzq8WBw8zMahmywCHpOEkPS7qlkraMpAsk/av8XrqkS9JPJd0p6SZJ61W22bms/y9JOw9Vfs3MrH+GssRxArBFU9qBwIURsRpwYXkPsCWwWvnZEzgSMtAABwMbARsCBzeCjZmZdceQBY6IuAx4rCl5G+DE8vpEYNtK+kmRrgKWkrQC8AHggoh4LCIeBy5gzmBkZmbDaLjbOF4bEQ8ClN/Ll/QVgemV9WaUtHbpZmbWJSOlcVwt0qJD+pw7kPaUNFXS1JkzZw5q5szMrMdwB46HShUU5ffDJX0GMKGy3krAAx3S5xARR0XElIiYMn78+LnO6KQJk5DU62fShElzvV8zs9FugWE+3jnAzsBh5ffZlfS9JZ1GNoQ/GREPSvoT8O1Kg/j7gYOGI6PTZkzjrhPu6pW26i6rDsehzcxGtCELHJJ+DWwGLCdpBtk76jDgdEm7A9OA7cvq5wEfBO4EngN2BYiIxyR9A7i2rHdoRDQ3uJuZ2TAassARETu2WbR5i3UD2KvNfo4DjhvErJmZ2VwYKY3jZmY2SjhwmJlZLQ4cZmZWiwOHmZnV4sBhZma1OHCYmVktDhxmZlaLA4eZmdXiwGFmZrU4cJiZWS0OHGZmVosDh5mZ1eLAYWZmtThwmJlZLQ4cZmZWiwOHmZnV4sBhZma1OHCYmVktDhxmZlaLA4eZmdXiwGFmZrU4cJiZWS0OHDVNmjAJSXP8TJowqdtZMzMbFgt046CSvgDsAQRwM7ArsAJwGrAMcD3wqYiYJWlh4CRgfeBR4OMRcW838g0wbcY07jrhrjnSV91l1S7kxsxs+A17iUPSisA+wJSIWAuYH/gE8F3gRxGxGvA4sHvZZHfg8Yh4A/Cjsp6ZmXVJt6qqFgBeI2kBYFHgQeA9wJll+YnAtuX1NuU9ZfnmkjSMeTUzs4phDxwRcT/wA2AaGTCeBK4DnoiI2WW1GcCK5fWKwPSy7eyy/rLDmWczM+vRjaqqpclSxMrA64HFgC1brBqNTTosq+53T0lTJU2dOXPmYGXXzMyadKOq6r3APRExMyJeAn4HbAIsVaquAFYCHiivZwATAMryJYHHmncaEUdFxJSImDJ+/Pih/gwttepx5d5WZjav6UavqmnAxpIWBZ4HNgemAhcD25E9q3YGzi7rn1Pe/60svygi5ihxjAStely5t5WZzWu60cZxNdnIfT3ZFXc+4CjgAGA/SXeSbRjHlk2OBZYt6fsBBw53ns3MrEdXxnFExMHAwU3JdwMbtlj3BWD74ciXmZn1rV+BQ9Ii5HiKNwOLNNIjYrchypeZmY1Q/a2qOhl4HfAB4FKy8frpocqUmZmNXP0NHG+IiK8Bz0bEicCHgLcMXbbMzGyk6m/geKn8fkLSWmSX2MlDkiMzMxvR+ts4flQZuPc1snvsOOB/hixXZmY2YvUrcETEMeXlpcAqQ5cdMzMb6frbq+qnrdIjYp/BzY6ZmY10/a2q2gZXTZmZGf0PHI+W3lRmZjbG9TdwrCHpRuAFcvLBvwI/L6O6zcxsDOlv4HgT+aS+15BToW8PHAN8cojyZWZmI1R/e1XdV3l7K3CBJD/C1cxsDOrXAEBJG0tavPJ+cfI5GmZmNsb0d+T4kcAzlffPljQzMxtj+hs4VH14UkS8QpemZDczs+7qb+C4W9I+khYsP/uSz88wM7Mxpr+B43Pkc8HvJ58BvhGw51BlyszMRq7+9qp6GPjEEOfFzMxGAc9VZWZmtfS3gftD5BP/jiRHj5uZ2RjV3zaO1YGjgT2ABYGTPXeVmdnY1K/AERGzI+LnwDuB8cCVkrYb0pyZmdmI1N82jpuBxjgOkY+O/Q05f1VtkpYi57paq+x3N+COss/JwL3ADhHxuCQBPwE+CDwH7BIR1w/kuGZmNvf628axS+V1tFuphp8Af4yI7SQtBCwKfBm4MCIOk3QgcCBwALAlsFr52YhsZ9loEPJgZmYD0N/AcSYZMASsADxY3td+jKykJcgqr10AImIWMEvSNsBmZbUTgUvIwLENcFIZuX6VpKUkrRARD9Y9tpmZzb3+juNYufFa0g0Rse5cHHMVYCZwvKR1gOuAfYHXNoJBRDwoafmy/orA9Mr2M0qaA4eZWRf0t1cVAKVaaaG5POYCwHrAkSUAPUtWS7U9bIu0OarLJO0paaqkqTNnzpzLLJqZWTv9nVb9D5L+ANwG/HYujzkDmBERV5f3Z5KB5CFJK5TjrQA8XFl/QmX7lcinEPYSEUdFxJSImDJ+/Pi5zKKZmbXT3zaOHwCvkBf8e+bmgBHxb0nTJa0eEXcAm5MB6TZgZ+Cw8vvsssk5wN6STiMbxZ90+4aZWff0t43j0kE+7ueBU0rV193ArmTp53RJuwPTyMfTApxHdsW9k+yOu+sg58XMzGroyjM1IuJGYEqLRZu3WDeAvYY8U2Zm1i+1GsfNzMwcOMzMrBYHDjMzq8WBw8zManHgMDOzWhw4zMysFgcOMzOrxYHDzMxqceAwM7NaHDjMzKwWBw4zM6vFgcPMzGpx4DAzs1ocOMzMrBYHDjMzq8WBw8zManHgMDOzWhw4zMysFgcOMzOrxYHDzMxqceAwM7NaHDjMzKwWBw4zM6ula4FD0vySbpB0bnm/sqSrJf1L0m8kLVTSFy7v7yzLJ3crz3Nj0oRJSOr1M2nCpG5ny8ystgW6eOx9gduBJcr77wI/iojTJP0C2B04svx+PCLeIOkTZb2PdyPDc2PajGncdcJdvdJW3WXVLuXGzGzgulLikLQS8CHgmPJewHuAM8sqJwLbltfblPeU5ZuX9c3MrAu6VVX1Y+BLwCvl/bLAExExu7yfAaxYXq8ITAcoy58s65uZWRcMe+CQ9GHg4Yi4rprcYtXox7LqfveUNFXS1JkzZw5CTs3MrJVulDjeDmwt6V7gNLKK6sfAUpIabS4rAQ+U1zOACQBl+ZLAY807jYijImJKREwZP3780H4CM7MxbNgDR0QcFBErRcRk4BPARRGxE3AxsF1ZbWfg7PL6nPKesvyiiJijxGFmZsNjJI3jOADYT9KdZBvGsSX9WGDZkr4fcGCX8mdmZnS3Oy4RcQlwSXl9N7Bhi3VeALYf1oyZmVlbI6nEMSZ5YKCZjTZdLXGYBwaa2ejjEoeZmdXiwGFmZrU4cJiZWS0OHGZmVosDh5mZ1eLAYWZmtThwmJlZLQ4cZmZWiwOHmZnV4sAxgnk6EjMbiTzlyAjm6UjMbCRyicPMzGpx4DAzs1ocOMzMrBYHjlGoVaN5o+HcDepmNtTcOD4KtWo0h56Gczeom9lQcoljjOhUSjEzq8MljjGiUyll0oRJTJsxrVf6xJUmct/0+4Yre2Y2ijhwmMeLmFktrqoyM7NaHDjMzKyWYQ8ckiZIuljS7ZJulbRvSV9G0gWS/lV+L13SJemnku6UdJOk9YY7z2Zm1qMbJY7ZwP+LiDcBGwN7SVoTOBC4MCJWAy4s7wG2BFYrP3sCRw5/ls3MrGHYA0dEPBgR15fXTwO3AysC2wAnltVOBLYtr7cBTop0FbCUpBWGOdtmZlZ0tY1D0mRgXeBq4LUR8SBkcAGWL6utCEyvbDajpNkw8Eh0M2vWte64ksYBvwX+OyKektR21RZp0WJ/e5JVWUycOHGwsjnmuauumTXrSolD0oJk0DglIn5Xkh9qVEGV3w+X9BnAhMrmKwEPNO8zIo6KiCkRMWX8+PFDl3kDXBIxG8uGvcShLFocC9weET+sLDoH2Bk4rPw+u5K+t6TTgI2AJxtVWtY9nUoi7UaiN7Zr5lHqZqNLN6qq3g58CrhZ0o0l7ctkwDhd0u7ANGD7suw84IPAncBzwK7Dm12rq1NQ8bQnZqPfsAeOiLiC1u0WAJu3WD+AvYY0U9Z1g1WCcbAxG3qeq8pGvDolGFeXmQ09Bw6bJ7m6zGzoOHCYFe2CTauAAq4us7HLgcOsD37iollvnh3XbIh4rIvNq1ziMBsidaq+GtVbbtS30cCBw2yYdWq4H8xG/cb+mjnY2Nxy4DAb5dyDzIabA4fZGOTJK21uuHHczMxqceAwM7NaHDjMzKwWBw4zM6vFgcPMzGpx4DAzs1ocOMzMrBYHDjMzq8WBw8zManHgMDOzWhw4zMysFgcOMzOrxYHDzMxqceAwM7NaRk3gkLSFpDsk3SnpwG7nx8xsrBoVgUPS/MDPgS2BNYEdJa3Z3VyZmY1NoyJwABsCd0bE3RExCzgN2KbLeTIzG5NGS+BYEZheeT+jpJmZ2TBTRHQ7D32StD3wgYjYo7z/FLBhRHy+ss6ewJ7l7erAHTUPsxzwSI30gS4brm1GQh6c77GXB+d7dOdh9YhYvM02PSJixP8AbwP+VHl/EHDQIB9jap30gS4brm1GQh6c77GXB+d73s1D9We0VFVdC6wmaWVJCwGfAM7pcp7MzMakBbqdgf6IiNmS9gb+BMwPHBcRt3Y5W2ZmY9KoCBwAEXEecN4QHuKomukDXTZc24yEPDjfYy8Pzve8m4dXjYrGcTMzGzlGSxuHmZmNEA4cZmZWy5gOHJLW6nYehoKkxVqkTW6RtkEf+1m4VZqklVukr9z0fo48DCZJ80v61VAeYyxp9bc2a2fUNI4PkV+U7r0nAKdGxBMAkt4O3BgRz0r6JLAe8JOIuE/ShRGxeWMHkv4AbAz8rdUBImJrSeOBzwCT6Tnnk8j5t5o1LsAXt1j2buCeDp/n38AxwDhgoqR1gM9GxH8Bv5O0VUTcX/L9LuBnkj4GHAm8NiLWkrQ2sHVEfLN8pvWajtH4nM3pZwLrS9qkXR4kXQ5cBlwO/DUini55eWOHPCBpErBaRPxF0muABSLiaUnjJS0UOQ0Nkprz1OwGYCdglYg4VNJE4BTg8XYblL/fosD/AyZGxGck3QEsBDzdYpPlgB90yMPrgeNb9QqUpBb5ex1wZ4v9PB0RL0laEvg68I6SfilwaEQ82S4Dko6LiN0q78cBZwObt9vGrGpMB46I2FTSasBuwFRJ1wDHA4cD65SL3peAY4GTJW0LLCdpaUBlN78C1iYv6K8r7wF2BO4tr88mL5Z/AV4uaXsBWwHLA5sAF5X0rYEngO2AKcDfy7HWBh4je5Y1b/Nu4BJyGpYPUMa4RMTfJb2zrPNZ4PeStiIv+t8GPljyuz/wy7LNTZJOl3Q+8BpJ61Y+61rl2C9K+mjlVC4BLFJe/6hDHnYGNgU+Bnxf0ovlvKzXIg+nAt+U9BlyRoBlgFWBlYBfkBe5e4G/SjoHeBb4z3KcR1qcu6uBm4FXgPcAh5IX/vHAV+nseOA6ciAq5N/tLOCP5f3J5fdO5Lxqi5OzF2xAz3ijrcigeRVwlKQFyn5/XbnI/2+L/P225HECGeAELAU8KOnhknYFsEPZx6fKfj8q6WmguffLk8Czkn4VEZ8s3+X/A47u4xyY9ejPKMF5/YccG/Ix4H7gduAF4KPA/wC7l3Wmk8HhReDu8voe8uK0N3BZi/1eVn7f2OHY5wIrVN6vAPyOnMjxLZX0tYAT+tjm6vL+hsqyv1devw24CbgGGF/Srm2xzX1kiefp8rvxcw0ZrB4lL06Nn58Cm5Rt+8rDCuQAzp8Dt5EX31Z5uLHxm7y7ry67ufw+uM1Py3MHXN8pbx3+RlNbbUeWmprX/Wv5/Wdg8Ur64sAfK+9XBw4r5/pUMvi3zB8ZKD9QSXs/8EOypPtsizw0zt0h5A3D4mRw35P8Tn8cmFb2ey3wsW7/D/pndP2M6RJHqRLZFfgQcAGwVURcL+lvZCljJvDOMq37ExHxFkmfj4gjWuxrL0mrRMTd5f3K5J0iwLmSPhg5FqXZ5Ih4sPL+IeCNwOyIuLmRGBG3SHprH9v8o1QVRamC24csIVVH2S9K3nUemzUjPCJpVcqdqaTtgNsiYktJH4uI37b4rG+LiJZVc8D0Fnm4vWx3F1kaOJU8v5+PiFcknd8iD43P92JEzCp5pdypRzknh5S0xfNtPFPe39jm3L1Y/paN44wH3ijppjafhYhYG5hVqsga261K3kAsJmnTiLiipG8CNNp2JgKzKruaRVZVNh4TsEb5eYQMDvsBk1rk7xVgSkR8rpKnP0v6dkTsJ4mmPLwdeL6sukVEbNTYTtIjZJXbQWW/G5M3AyHpoxHxu3bnwaxqTI/jkHQZWUQ/MyKer6S/jqyu+kVEXF7qmj9LjlyfFRFXtdjXFuTgmbtL0mSybv9PpcpgMfLi8VJZHhGxhKSfAasBvyYvGJ8g67SXI6tfflXSPwmMi4gdO2xzCPAT4L1klcafgd8AT3U4DdNLvjchqz3uAT4ZEfdKWoq8Q21UNV1KVqG8ljZtEpKWa5GHfSPiUUn7klVVE4B/lP1dVj5Duzx8j6y6+zTweeC/yMD2ldK54WSyGgvyIvxpsuppjnNHltQ+DqxPlkC2A35Mh4Glke1a7yv7XLN8nrcDu5AlsuOAJcvqTwC7lZuPr5DVR2eVPHwEOJ38u24NXAgcGxHXNI4l6QFgKll1d2LJ31fJ9rELyZIU5TO8D9gCuIX8XjXy8Diwc2R139/IqsMzy7ILgTeTVVNb03vanohKu4dZJ2M2cJQ7u5MiYqd+rn98eflERHyhzToLk3eRAP+IiBf7ue+P0tO4eVlEnCVpEbLOvnHRvgw4MiJeKNt8pLosIs7q4xgrAw9Wtn8NeeG/t7xfDJgvSoN1SfsteWE6sSR9ClgHWJbSJhER65Z1bylBZJmIeKz52BFxT+X9OLKk90VgpYiYv0Me5gN2J6tnRAbvYyIiJF0JfCUiLi7rbka23byn3bmTtAY9jcAXRcTtfZw3ke0qz5F36AKuiohHKussQf4vPdm07fpkoIT8G90gaTfgtIh4rsWxliSr8jYvx7kwIm4vwfjgsi+RbRqHkCXHg8mqw3FlN8+U9OvIG4afkFWUQbavfIGskl2/UUoxq2vMBg4ASX8k75QbvXLuIf/BZlaL+E3bLEK2f0wmOxesTN4h39Jq/UbxX9LW9FzILolKY6nzAAAVVElEQVSIcwfvk7yat1a9t4iI3SRNJdshGp91IeCv9DRWN29zaKnyeSsVkm4EXoqIDSTdUAkcN0bEWyX9FdgyIp4q6W8CzihB5fByvHHkRazRw+pZ8oL/+lJFtibwtog4tgTI81oFYUl/j4h1WqWVwDgxIu5oWr5eyUOUz/9b+v6bXxcR61fe79dqvcq5+2FZb36ydFatEp4B/Adz9pyaCtwUEbW6iJdOBFPI0oPIatdryRuYMyLiey22afs9qXNsG7vGdBsH2TBZ7ZVzBPT847fxe3ru6F4kezLdQvaaaRZkN9jDyB42p5T0fSUdGRETWvR8adSRt5rEcQ3ywtPuIteq91bDAo2gAVDaDRYq21Q/T9XzberPn+jQJvFt4A+SPkQ2AJ9E9jaCDBbfi4iHqgdR9uA6HvhKSfonWcV2LFml8uNSrXgaOb3+7LLe3ZK+Rk+vpk8C95Qg/X2yUX3l0r5xKHlx3p4MFirHPDZKt98OrpK0QURcW973+bwCSZ8nSwMPkX8L0ROs5ug5VQLx3yVNjIhpTft6I1k6m0zvC/17yNLfepX2nYPJqql3AjeWNqFe25Hfo3bfE7M+jfUSx8Gt0huNrm22uWUAd4U3AW+NiFfK+/nJnjNrt1h3Uqd9RcR9HY4zRwmhsuwC4IiIOKe834ZsuH5tu8+j7I58Ek3152R1SHObxE6NvCm7LX+JvMB+NCL+VdlnteR1aUT8QdK17Uow5fWC5PPmP06WFi6IiD2UXUkPoacK59Ly/i/khfmSyv5uAhYE1m2qrrs+It7U7pyW9W4jOx/cR95giGwTmOPvV9nmTmCjiHi0Kf36iFiv6bM2SkkXkTcY15TjNEwie0BdR+VCHxHXSbodWKdSklyY7FX1JknPkL3Xem0HfK3d98SsP8ZsiaNcvMdFxP41N71S0lui0munss8PkY2PjTENRMSh5eVS5DgMKBfiUn/fq3qiU2Doh069tz4HnFIa1kU2in8a+FK7z0PWtZ9I7/rzDYA3kQ3KF5OzDzwLHCfpIXqeKrYE2VHg85KIiH0kfYcc59Aoee2j7In0rKRl6SnBbEyWggCIHOh2fln+GvJ583tExONk8Gv8PReLiKckzY6IJ6XG8JNX3Uv+bV4o7xcG7mp1Ipts2SqxtHvNcedVqnymVz9DxUtq3XMKMui18sOIOLLNslPJEtHZ5f1WwK9Le9GsiDigRb7X7fA9MevTWC9x9BoF3s9tbgPeQM+YjkYVxJVkV9d3kyOntyPvHPcgG5W/QV5oRd5xHxQRp0k6pbxurp6oVmEtRN4tPxsRS3TIW9veW5V1xpF/98ao7dvIHlp3Vz9PRKzdof78g+TF7sRK+qNkw+61tOilFBEntit5kT2UjiDHW9xCdmPervQM2oLsNdYY5Pgb4M+Rz2g5lQyIL5N31UuS4xvWIHsQHUi23+xTzt/ryMB3QTm37yMbmh8uedynw7ldh54ODJdHDmz8WGWVRcieUw+UIHksWVX3f/SuAnyILDn16jkVEWd0OPbXSx7Pqu6r0Qmh0ggv4IqImFrSvwlc2RwgKt+TF8nvSeNv3va7ZVY11gPH4eRF8wwqVQPRoT97h6qkP5SL7U3l9zjgdxHxfknXAR8mL1oiB8n9u+yvZfVERGzddNxtyeesf3kAH7WxjzlKROTFa2kqvbrInmP3SfoTOTisUX8+jqw/n5/sDfWmpvSPANdFxJptjn8TsFnlgrcMGQy+QfaWmkBe6Dciq1Oul3Qa2bZxfnMDeaVBfieyi+0BZADZmGwveX9Z9c/lGB/vdH4i4sRW6cpuxJ8hB1lSPudR0TSep5Qg/xIR7+lUDaqenl0iA9x5dGigV3baaLGrWKXT53GAsKEy1gPH8S2SYyC9SyRdExEbSrqK7HX1GDnCeTVJPydHfV/bYrt3tdpfRFzaYt2rImLjPvLRsveWpF/QukR0E1kq+h15YdkWODoijmhXf172/WKlDWJh8qK3hKTngVfbNCqfZ21JO5KjpXuVvIAvl+Wbko3rh5e0lr2cKp/1VuCtZHXNzyLiUkl/B7aJ0s24su4Grc5/f5SA97aIeLa8Xwz4W3Mbh6TVgf+LiDe02McyzWlV0dSFeShIWiMi/qE2c3pFxPVDnQebN4zpwDGYlL17jiDvJH9O3kEeHRH/M8DG1epcUPORVUbvioi3tdkEzdl7a0eyBHBgpSTUq0REVt+0vCiWz/QRsucVZP35OWTb2N7kGIFG+kVkHf0pwL7Neas0nK9AU8mr0VBc2kBujohTlfNY3U/nbrL7kKWMv5PVZRPJQX+LkbMANCZ0fCf5N/ko8B1yIF+1HaqvO/ebgQ0qjeqLkFVyk8m/c6O68t9kteNvJV1M7/aPxt/t39XTQs93YY48SHpPRFzU9F3o2bhNybhDgPgK8C0yMLfYXbyn1f7Mmo3pwFEuALszZ4P2QEoc25NzET1dLrjrAd8o1S0tq7dKdVC7ieheIUsEzwCzyYbdoyPi4Q55aNt7S9LVEbFRpUT0KNme8AItLooR8Zbyvl39ecv0fpynFcleQtWOGV8ig8R7ySqn54FrommMRj/3vwCwLjlhYHVCx63IkfYHk6OptyIHISoiWlYrVfa5H9mbrDHIcluyBPnjDtusX3m7CFkFNzsivlTjsxwSEQfXLRlLOioi9izBq9V2DhA2V8Z64DiDnPriP8g+9TsBt0fEHHfM/dhX406+bnXLIcADZHWLyIbg1wF3AP8ZEZvVyQMt2hAqpYcjyG6qjencj6Gni22/L4ptjt0qAEKlXl3Sd8l2hlvp6UnUmDJlC7K08a9SKnlLRPy5j2PuS47FeLp8lnWBAyPncnobOdvuC8CHImKmykA+STdXAuPlEfGOdseoHKsxcFCUUeAlvV8DO8v2R5NtJXMY7moiZW+2yfQeF3LScObBRq+xHjgaVSSNi/6C5ACz2ndkbapbXu2r32G7q5uDSykVbEdeYF8kL65XkHM+zeiwr5ZtCJG9t15DTsPxjrK/y+mZhqPlRXGwKZ9jsXZzI/dc7K8x/uED5DT1S5JTolxWVlmTHJjYeN7GsuTnP5OsWrsfOCwiVm+z/47tEmRJqblqcGpEHNS07XxkI/hqZLXaHFO+R8SmtKGciuRgmuYMiw7P3KhsO0eAIHuTrUq2VzXGd0R06FVmVjVmx3EUjS6rTygnzPs3ZQbTAbhf0i/J6pbvlgbj/jxh8RVJO9AzEd125ffxZJVVo+77kyXtfe12FBG/lnQJPW0IB0TpvUX2nnqanAId8iJ3ErBDudsdjjveu8lusYMSOODV54R8kDw3j5Elj1Z1+JDzTS1Kds/9Bln62rnD/q+jpx1iIr2fhzGNPJ/VqsETye7FBzVtO5vsvr0X2Ta0Z5RxM+V798U+PudxZLXiHM/c6LSRpJNpESDIwLVmjOW7RpsrY73EsQc5/cRbyNlSx5HdQH85gH0tysCqW1ah9UR0vwX2ispEdGozMrw/vWXUYV6nep904JSTJq5D3n1XxyMM6E631P2vCKxc9js/WV20vqTXkgEUsr2kbdtQP47zC+CcKOMhJG1J3iC8jzZVgx321XL+r1Z/17nZpqxzOy0CRKmi3Sd6T81v1m9jvcRxMj0T/DX68L92IDuKnO30d5X3D9Izf1On7e6mxTxXkmYCk5VTY0OWEB5tXq/Yj3xIT8veMuSd9Q2SNo4yJbykjch5k4bT3+g9lTfkCPOB2p3sjnt3RDynHH2+aynBfZ8cIyLgCEn7k12P96epcb4fVZMbRO/nYZwv6RtkW9b1pZRX7V7cmCalOkPvJWSby+2SjqH3lO8dZ+il/ZxhfbmFbC97sGz3h3LMxYHblE+8rAbwrVvtxKzZWC9x/JGeCf6qcwC1q+oYijy07NlFPkf6Z/SURK4k7xKnNe+jj/3fXLZfkBzJPK28n0Q+16LWvFtzQ9L15LMiGtU0OwL/3VcHgg77a/eM7qOB9zVKGcppPf5SNms551Mfx/kT2SZUvdi/kxzN/S+yCmsavQd2HkOe8+qU9C+TVVVtp8tvc/yWc4ZFRMsHUDUFiLeSvfNeJNt4IINmtXeXgO8O9O9gY89YDxy1Jywcgjy07NlF1qP/d+R8TI1qkB906ipcut9+iN6NoUuT9f4txdzNjVVLqZY7k/yMm5JzZX24P428bfZ3JGWm2chJ/ZYmR4kv0ug1Vdabj2yMnhWV6dFrHGcZehqng7zYH0pelDclG9xXIdsSLouInwxm1aB6pnGf45kbEXFji/VbDiqt+FFE9KrWbHQQqZs3G5vGeuA4ipwxttUEf8OVh5Y9u4Clm3tk9dVLS9J5ZPfTm+np7tpxtt/hppwi/PfkJIDbRuXJiwPYV8uZZsngsTY5bgOyC/BNZPVO2zmf+nG8cVGmX6mkzU+2pbybnDfr+YhYo5Suto+Iu8p6jaC5NK0nRmw7CFEDeOZG2e67UZnkUNJ/kgFvUXpP7rg4+az0T3Y+A2ZpTLZxVKpvFiDrxOeY4G8Ys9OuZ9fTkpZuKnH09fdaaSTeNVbOd8MyZEP21cqZcwea55YzzUbE/srR1o0uxkdFPlWxMefT/k356Wvk+CZkqW0cMLFUHX2WrPpbjGy7uZxsC2k0wu8PXFy+WyKrBnclA1jDIuTzQfrq9tvpmRvXAS0DB9l4X50d91SyR9mN5ASQDU/3N3iawRgNHOSEgyPFUaWK5avkHeU44Gvk3fGVks4kL3I7kNNFdHK+pPf31ZOrC4bqfP+ULD0sL+lb9DyjG7Lh/yXy3DWe630AObr/KVVG9/fjOD8CPkBp2I+cGfed5Cy765Oz+j5JBv+/kTchz5PjNlYnA0e7Rwn/WNIV5LPd25lIznjc8BIwKSKeV07N0kspWfwXsIpyUGjD4uRsuf16XLJZO2MycAxnvX4/tOzZVRp7p5I9okQ+EOm2PvZ1FXBWqdMfMbOhDvb5VnmGeUScopx5uDHT7LaRz+hu16vqqxFxunJ0//vIXmhHkrPx9vUZpqv38z1ejvLsefU8Q/144HURsbCkwyPnFevVgN3UZboxB1lfTxTs9MyNVt+JU4HzyXm5XLKwQTem2zhGgsHs2VWqRbYlx5LMs39Y9Uwd0vJ5KqWdo1WvqldiYKP7zySf8/Ezcsr2fcgL/hVkw/j65ASWl5HP6rhIOZXMTeTU+lHZV3Xyw8YcZD+IiH/2kYeBzg22KbBaRBwvaTlg8YhoNU27Wb85cHTZYPbsKt1Gt4wyknleJekGsoF9D7IaqdmubXpV3ccAJlMsF9yflO1ENr7vC+xGBovrouc56I1tGs/CmE12WFioLPoKPSPKKa/7es79gJS2kCnA6hHxRkmvJxvT3z7Yx7KxZUxWVY0wbR9FOwAPApcoH7Na7TU06BelLvsEWbJagNbVPH8sQbTaq+o8ctr3Lcg7/CeUo/v7fHRwRDxCdiFu9v0O2yxeOjSsRjaCN6Y2WZ/shXU2GTy2omdurcH2EXLix+tLnh6Q1Fe1mFmfHDi6ZIh6dt1Tfhai5w53nhMRd5Dzgd0UEee3Wkf5WNe3U+lVVRb1e3S/pCNoPeNvY/tOj5rdgyyVrET2YtqYHMT5MtlDqvHo3q+TT6AcCrMiIiQ1ep0tNkTHsTHGgaN7BrWnUemWOi4i+ryDnodcKemHtJg1NiJ+S873NTf61Y7Qxr5kyeKqiHi38nGxh5BzalV7SM1i4BNr9uV05cSbS0n6DFm1dvQQHcvGELdxzEPaNRbPq5STJt5CT2+028meSs2DCgeld5mkJcp+nu7HutdGxAaSbgQ2iogXy+szyK7VZ5GlmY8Av4mI78xN3jrk433ks9dFPjLggqE4jo0tDhzzEEmHk3XqZ5CPqAXaP2J0tNMAZ40dwHGmkF1tFycvwE8Au0WHOa4knUV20f1vskv148CCEfHB0iW38fCoIXv+SSUvS9B7Ukd3ybW54sAxD1HNR4yOdmWw3f7Re9bYH0SH57IP8Dg3kVPcX17ebwr8b3/bocrcUUuSgw9n9bX+YJH0WXKKkefJKWjaPt/crA4HDhu1VHPW2Lk4zl+bu7C2ShtpJP0LeFvpFWY2aNw4Pg8pEwgeSY48X0vS2sDWEfHNLmdt0JWxGatHPjp2CYCIeGqQj9EY5X1NaWT+Ndku8XFyVPpIdxf51EOzQeUSxzxE0qXkuIRfVmaL7frU8UNF0mUR8c6+1xzw/i/usDhiAM+mH06S1iXbZq5mEJ64aNbgEse8ZdGIuKZpTqXZ7VaeB1wg6YvAb+jdGWBQGn8j4t2DsZ8u+iVwEU3T7JvNLQeOecsjklalZ5rx7ejH42tHsd3Iz/pfTemD2vgraSnyoVOT6d07aaTfuc+OiP36Xs2sHgeOectewFHAGpLuJ0eRz8tTaK9JBo1NyQByOflo2MF2Hjnz8Gi7c79Y0p7AHxjAg6vM2nEbxzxE0sLkMykmkw8Heoqsiz+0m/kaKpJOJz/jKSVpR2CpiNhhkI9zfTQ9anU0qDy4qsrdcW2uOXDMQ8oU7U+Qk9rN1RTto4EG8bnefRznC+Rzvs/Fd+5mrqqax6wUEVt0OxPD6AZJG0fEVQCSNiKf/DfYZpEz4TamRKf8HtF37srn1/8nPXN5XUL2uHup7UZm/eASxzxE0lHAEYM0RfuIJ+l28tGs00rSRHK+qlcYxGfHS7qLnG9qVA2kk3QMsCA9c3l9inxy4R7dy5XNC1zimAcM0RTto8Fwla5uZXQOpNugqdruovJ0RLO54sAxbxjUKdpHixi+Z8e/DNxYBgSOpoF0L0taNSLuApC0CpW2L7OBcuCYBwzjBXSs+n35GW2+SHbJvbu8n0zO2Gs2Vxw4zPoQESf2vdaItCywFhkwtgE2AZ7sZoZs3uDAYdaHMh5ijl4ko2A8xNci4owyCeT7gMPJSTA36m62bLRz4DDr25TK60WA7ckBliNdoz3jQ8AvIuLs8oxzs7ni7rhmAyDpiojYtNv56ETSucD9wHuB9ckHOl0z2AMkbexxicOsD5XnckA+03wK+RjZkW4HssvyDyLiCUkrkNPum80VlzjM+lC64Tb+UWYD95IX4392LVNmXeTAYdaGpMaU5CIDR+NBJwEQET/sRr7Mus1VVWbtNaqjVgc2AM4mg8dWwGXdypRZt7nEYdYHSX8GPhYRT5f3iwNnjLEJJc1eNV+3M2A2CkwkZ8htmEUOqjMbk1xVZda3k4FrJJ1Ftm98hJ4ZZ83GHFdVmfVD6ZL7jvL2soi4oZv5MesmBw4zM6vFbRxmZlaLA4eZmdXiwGFmZrU4cJiZWS0OHGZmVsv/B7XYuQG5QAfrAAAAAElFTkSuQmCC\n",
      "text/plain": [
       "<Figure size 432x288 with 1 Axes>"
      ]
     },
     "metadata": {
      "needs_background": "light"
     },
     "output_type": "display_data"
    }
   ],
   "source": [
    "X2 = range(30)\n",
    "Y2 = [word[1] for word in h_firty]\n",
    "Z2 = [word[0] for word in h_firty] \n",
    "plt.bar(X2, Y2[:30], color ='plum', edgecolor='black')\n",
    "plt.title('barplot для 30 самых частотных слов')\n",
    "plt.ylabel('числа')\n",
    "plt.xticks(X, Z2[:30], rotation=90)\n",
    "plt.show()"
   ]
  },
  {
   "cell_type": "code",
   "execution_count": null,
   "metadata": {},
   "outputs": [],
   "source": []
  }
 ],
 "metadata": {
  "kernelspec": {
   "display_name": "Python 3",
   "language": "python",
   "name": "python3"
  }
 },
 "nbformat": 4,
 "nbformat_minor": 2
}
