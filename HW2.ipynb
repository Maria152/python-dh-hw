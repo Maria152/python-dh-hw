{
 "cells": [
  {
   "cell_type": "markdown",
   "metadata": {},
   "source": [
    "#задание1 Необходимо выделить все биграммы в этом тексте и сохранить их список в какую-либо переменную.\n",
    "text = ''''Несчастная кошка порезала лапу- \n",
    "Сидит, и ни шагу не может ступить.\n",
    "Скорей, чтобы вылечить кошкину лапу\n",
    "Воздушные шарики надо купить!\n",
    "\n",
    "И сразу столпился народ на дороге-\n",
    "Шумит, и кричит, и на кошку глядит.\n",
    "А кошка отчасти идет по дороге,\n",
    "Отчасти по воздуху плавно летит!'''\n",
    "from string import punctuation\n",
    "parts = text.split()\n",
    "text = [i.strip(punctuation) for i in parts]\n",
    "print(text)\n",
    "bigrams = []\n",
    "b= len(text)\n",
    "for m in range (b-1):\n",
    "    pp = text[m] + ' ' + text[m+1]\n",
    "    print(pp)\n",
    "    bigrams.append(pp)\n",
    "\n"
   ]
  },
  {
   "cell_type": "markdown",
   "metadata": {},
   "source": [
    "#задание3\n",
    "text = ''''Несчастная кошка порезала лапу- \n",
    "Сидит, и ни шагу не может ступить.\n",
    "Скорей, чтобы вылечить кошкину лапу\n",
    "Воздушные шарики надо купить!\n",
    "\n",
    "И сразу столпился народ на дороге-\n",
    "Шумит, и кричит, и на кошку глядит.\n",
    "А кошка отчасти идет по дороге,\n",
    "Отчасти по воздуху плавно летит!'''\n",
    "#длина строки\n",
    "print(len(text))\n",
    "#удаляем пунктуацию и выводим список\n",
    "from string import punctuation\n",
    "parts = text.split()\n",
    "text = [i.strip(punctuation) for i in parts]\n",
    "print(text)\n",
    "#убираем пробел\n",
    "text2 = ''.join(text)\n",
    "print(text2)\n",
    "#считаем слова\n",
    "print(len(parts))\n",
    "#нижний регистр\n",
    "text3 = [ parts if text2.islower()  else w.lower() for w in text]\n",
    "print(text3)\n",
    "#уникальные слова\n",
    "print(len(set(parts)))\n",
    "#выводим последние 10 слов\n",
    "print(text3[-10:])\n",
    "#соединяем список в строку\n",
    "p1 = '\\n'.join(text)\n",
    "print('\\n'.join(text))"
   ]
  },
  {
   "cell_type": "markdown",
   "metadata": {},
   "source": [
    "#выводим 20-30 символы\n",
    "p2 = p1[20:30]\n",
    "print(p2)"
   ]
  },
  {
   "cell_type": "markdown",
   "metadata": {},
   "source": [
    "#биграмы\n",
    "bigrams = []\n",
    "b= len(text)\n",
    "for m in range (b-1):\n",
    "    pp = text[m] + ' ' + text[m+1]\n",
    "    print(pp)\n",
    "    bigrams.append(pp)\n",
    "    bigrams2 = tuple(bigrams)\n",
    "print(bigrams2)"
   ]
  },
  {
   "cell_type": "markdown",
   "metadata": {},
   "source": [
    "#считаем количесвто биграм в тексте \n",
    "for m in bigrams2:\n",
    "    print(bigrams2.count(m))"
   ]
  },
  {
   "cell_type": "markdown",
   "metadata": {},
   "source": [
    "#задание2 Распечатать текущую директорию и список всех файлов и папок в ней. Посчитать и распечатать количество файлов\n",
    "import os\n",
    "print(os.getcwd())\n",
    "for file in os.listdir('.'):\n",
    "    print(file)\n",
    "for file in os.listdir('.'):\n",
    "    print(os.listdir('.').count(file))\n",
    "print(len(file))\n",
    "#Пройтись циклом по рабочей директории, читая содержимое каждого файла и записывая его в новый файл poems.txt\n",
    "with open('poems.txt', 'a', encoding='utf-8') as f:\n",
    "    for root, dirs, files in os.walk('C:\\Users\\Маша\\python-dh-hw\\poems (1)\\poems'):\n",
    "        f.write(root, dirs, files in os.walk) "
   ]
  },
  {
   "cell_type": "code",
   "execution_count": null,
   "metadata": {},
   "outputs": [],
   "source": []
  }
 ],
 "metadata": {
  "kernelspec": {
   "display_name": "Python 3",
   "language": "python",
   "name": "python3"
  },
  "language_info": {
   "codemirror_mode": {
    "name": "ipython",
    "version": 3
   },
   "file_extension": ".py",
   "mimetype": "text/x-python",
   "name": "python",
   "nbconvert_exporter": "python",
   "pygments_lexer": "ipython3",
   "version": "3.7.0"
  }
 },
 "nbformat": 4,
 "nbformat_minor": 2
}
